{
 "cells": [
  {
   "cell_type": "code",
   "execution_count": 7,
   "id": "5101ec65-629a-43ff-ab4c-3fee0cc449e5",
   "metadata": {},
   "outputs": [],
   "source": [
    "import tiktoken\n",
    "from datasets import load_dataset"
   ]
  },
  {
   "cell_type": "code",
   "execution_count": 3,
   "id": "00201347-12d6-4d45-8feb-c558db5175e6",
   "metadata": {},
   "outputs": [
    {
     "name": "stderr",
     "output_type": "stream",
     "text": [
      "Downloading data: 100%|█████████████████████████████████████████████████████████████████████████████████████████████████████████████████████████████████████████████████████████████████████████████████████████████████████████████████████████████████| 30/30 [03:57<00:00,  7.90s/files]\n",
      "Generating train split: 100%|██████████████████████████████████████████████████████████████████████████████████████████████████████████████████████████████████████████████████████████████████████████████████████████████████████| 40836715/40836715 [00:16<00:00, 2418531.28 examples/s]\n",
      "Generating validation split: 100%|██████████████████████████████████████████████████████████████████████████████████████████████████████████████████████████████████████████████████████████████████████████████████████████████████████████| 3000/3000 [00:00<00:00, 483809.29 examples/s]\n",
      "Generating test split: 100%|████████████████████████████████████████████████████████████████████████████████████████████████████████████████████████████████████████████████████████████████████████████████████████████████████████████████| 3003/3003 [00:00<00:00, 635718.72 examples/s]\n"
     ]
    }
   ],
   "source": [
    "dataset = load_dataset(\"wmt14\", \"fr-en\", split=\"train[:1%]\")\n",
    "\n"
   ]
  },
  {
   "cell_type": "code",
   "execution_count": 6,
   "id": "10bcfc2c-708f-4d21-b160-bc680cdcdd6f",
   "metadata": {},
   "outputs": [
    {
     "data": {
      "text/plain": [
       "{'en': 'Resumption of the session', 'fr': 'Reprise de la session'}"
      ]
     },
     "execution_count": 6,
     "metadata": {},
     "output_type": "execute_result"
    }
   ],
   "source": [
    "dataset[0]['translation']"
   ]
  },
  {
   "cell_type": "code",
   "execution_count": 8,
   "id": "bf9b6edf-493b-450a-9196-fa2db0533241",
   "metadata": {},
   "outputs": [],
   "source": [
    "tokenizer = tiktoken.get_encoding(\"cl100k_base\")"
   ]
  },
  {
   "cell_type": "code",
   "execution_count": 9,
   "id": "9eac02ba-4921-4095-a633-191bf9589f05",
   "metadata": {},
   "outputs": [
    {
     "name": "stdout",
     "output_type": "stream",
     "text": [
      "English tokens: [9906, 11, 1268, 527, 499, 30]\n",
      "French tokens: [82681, 11, 4068, 39043, 11412, 949]\n",
      "Decoded English: Hello, how are you?\n",
      "Decoded French: Bonjour, comment ça va ?\n"
     ]
    }
   ],
   "source": [
    "english_text = \"Hello, how are you?\"\n",
    "french_text = \"Bonjour, comment ça va ?\"\n",
    "\n",
    "# Encode text to token ids\n",
    "english_tokens = tokenizer.encode(english_text)\n",
    "french_tokens = tokenizer.encode(french_text)\n",
    "\n",
    "print(\"English tokens:\", english_tokens)\n",
    "print(\"French tokens:\", french_tokens)\n",
    "\n",
    "# Decode tokens back to text (optional)\n",
    "print(\"Decoded English:\", tokenizer.decode(english_tokens))\n",
    "print(\"Decoded French:\", tokenizer.decode(french_tokens))"
   ]
  },
  {
   "cell_type": "code",
   "execution_count": null,
   "id": "fa75d1e0-8b37-49b0-ba10-92c0fde139c0",
   "metadata": {},
   "outputs": [],
   "source": [
    "\n",
    "# Load first 5,000 samples of English to French translation\n",
    "dataset = load_dataset(\"ted_hrlr_translate\", \"en_to_fr\", split=\"train[:5000]\")\n",
    "\n",
    "for i in range(3):\n",
    "    print(\"English:\", dataset[i]['translation']['en'])\n",
    "    print(\"French:\", dataset[i]['translation']['fr'])\n",
    "    print()\n"
   ]
  }
 ],
 "metadata": {
  "kernelspec": {
   "display_name": "Python 3 (ipykernel)",
   "language": "python",
   "name": "python3"
  },
  "language_info": {
   "codemirror_mode": {
    "name": "ipython",
    "version": 3
   },
   "file_extension": ".py",
   "mimetype": "text/x-python",
   "name": "python",
   "nbconvert_exporter": "python",
   "pygments_lexer": "ipython3",
   "version": "3.12.11"
  }
 },
 "nbformat": 4,
 "nbformat_minor": 5
}
